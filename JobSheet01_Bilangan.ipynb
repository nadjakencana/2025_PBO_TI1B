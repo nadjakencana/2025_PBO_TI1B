{
  "nbformat": 4,
  "nbformat_minor": 0,
  "metadata": {
    "colab": {
      "provenance": [],
      "authorship_tag": "ABX9TyP4AiHBRwStfjsjTFP2bxys",
      "include_colab_link": true
    },
    "kernelspec": {
      "name": "python3",
      "display_name": "Python 3"
    },
    "language_info": {
      "name": "python"
    }
  },
  "cells": [
    {
      "cell_type": "markdown",
      "metadata": {
        "id": "view-in-github",
        "colab_type": "text"
      },
      "source": [
        "<a href=\"https://colab.research.google.com/github/nadjakencana/2025_PBO_TI1B/blob/main/JobSheet01_Bilangan.ipynb\" target=\"_parent\"><img src=\"https://colab.research.google.com/assets/colab-badge.svg\" alt=\"Open In Colab\"/></a>"
      ]
    },
    {
      "cell_type": "code",
      "execution_count": 3,
      "metadata": {
        "colab": {
          "base_uri": "https://localhost:8080/"
        },
        "id": "zVsZ8VgoE3gU",
        "outputId": "286dfe8a-8d05-4f40-8774-9c9781bda070"
      },
      "outputs": [
        {
          "output_type": "stream",
          "name": "stdout",
          "text": [
            "Masukkan bilangan: 21\n",
            "Bilangan 21 adalah Ganjil.\n"
          ]
        }
      ],
      "source": [
        "def cek_prima(n):\n",
        "    if n < 2:\n",
        "        return False\n",
        "    for i in range(2, int(n ** 0.5) + 1):\n",
        "        if n % i == 0:\n",
        "            return False\n",
        "    return True\n",
        "\n",
        "def cek_bilangan(n):\n",
        "    if n % 2 == 0:\n",
        "        jenis = \"Genap\"\n",
        "    else:\n",
        "        jenis = \"Ganjil\"\n",
        "\n",
        "    if cek_prima(n):\n",
        "        jenis += \" dan Prima\"\n",
        "\n",
        "    return jenis\n",
        "\n",
        "# Input dari user\n",
        "bilangan = int(input(\"Masukkan bilangan: \"))\n",
        "\n",
        "# Mengecek dan menampilkan hasil\n",
        "hasil = cek_bilangan(bilangan)\n",
        "print(f\"Bilangan {bilangan} adalah {hasil}.\")\n"
      ]
    }
  ]
}