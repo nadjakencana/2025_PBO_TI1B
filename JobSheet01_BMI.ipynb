{
  "nbformat": 4,
  "nbformat_minor": 0,
  "metadata": {
    "colab": {
      "provenance": [],
      "authorship_tag": "ABX9TyNz1UyuhbAICcONiXgoKgqV",
      "include_colab_link": true
    },
    "kernelspec": {
      "name": "python3",
      "display_name": "Python 3"
    },
    "language_info": {
      "name": "python"
    }
  },
  "cells": [
    {
      "cell_type": "markdown",
      "metadata": {
        "id": "view-in-github",
        "colab_type": "text"
      },
      "source": [
        "<a href=\"https://colab.research.google.com/github/nadjakencana/2025_PBO_TI1B/blob/main/JobSheet01_BMI.ipynb\" target=\"_parent\"><img src=\"https://colab.research.google.com/assets/colab-badge.svg\" alt=\"Open In Colab\"/></a>"
      ]
    },
    {
      "cell_type": "code",
      "execution_count": 3,
      "metadata": {
        "colab": {
          "base_uri": "https://localhost:8080/"
        },
        "id": "X_QrLmPmDPA-",
        "outputId": "064329f0-4b19-48f2-9691-5187c1479fcb"
      },
      "outputs": [
        {
          "output_type": "stream",
          "name": "stdout",
          "text": [
            "Masukkan berat (kg): 10\n",
            "Masukkan tinggi (cm): 170\n",
            "Nilai BMI Anda: 3.46\n",
            "Kategori: Underweight\n"
          ]
        }
      ],
      "source": [
        "def hitung_bmi(berat, tinggi_cm):\n",
        "    tinggi_m = tinggi_cm / 100  # Konversi cm ke meter\n",
        "    bmi = berat / (tinggi_m ** 2)\n",
        "\n",
        "    if bmi < 18.5:\n",
        "        kategori = \"Underweight\"\n",
        "    elif 18.5 <= bmi < 24.9:\n",
        "        kategori = \"Normal\"\n",
        "    else:\n",
        "        kategori = \"Overweight\"\n",
        "\n",
        "    return bmi, kategori\n",
        "\n",
        "# Input dari user\n",
        "berat = float(input(\"Masukkan berat (kg): \"))\n",
        "tinggi = float(input(\"Masukkan tinggi (cm): \"))\n",
        "\n",
        "# Menghitung dan menampilkan hasil\n",
        "bmi, kategori = hitung_bmi(berat, tinggi)\n",
        "print(f\"Nilai BMI Anda: {bmi:.2f}\")\n",
        "print(f\"Kategori: {kategori}\")\n"
      ]
    }
  ]
}