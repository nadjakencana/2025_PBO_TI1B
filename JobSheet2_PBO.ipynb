{
  "nbformat": 4,
  "nbformat_minor": 0,
  "metadata": {
    "colab": {
      "provenance": [],
      "collapsed_sections": [
        "spQ-E4BK536_",
        "VjMYRXAbCgjM",
        "1Uoj_AVbFDR6"
      ],
      "authorship_tag": "ABX9TyPglNLgRqLdk/aIAVZAioT6",
      "include_colab_link": true
    },
    "kernelspec": {
      "name": "python3",
      "display_name": "Python 3"
    },
    "language_info": {
      "name": "python"
    }
  },
  "cells": [
    {
      "cell_type": "markdown",
      "metadata": {
        "id": "view-in-github",
        "colab_type": "text"
      },
      "source": [
        "<a href=\"https://colab.research.google.com/github/nadjakencana/2025_PBO_TI1B/blob/main/JobSheet2_PBO.ipynb\" target=\"_parent\"><img src=\"https://colab.research.google.com/assets/colab-badge.svg\" alt=\"Open In Colab\"/></a>"
      ]
    },
    {
      "cell_type": "code",
      "execution_count": null,
      "metadata": {
        "id": "nBAPgt-H5t5C"
      },
      "outputs": [],
      "source": []
    },
    {
      "cell_type": "markdown",
      "source": [
        "# JobSheet 2 PBO"
      ],
      "metadata": {
        "id": "e1l_-_RF5wPX"
      }
    },
    {
      "cell_type": "markdown",
      "source": [
        "## Praktikum 1"
      ],
      "metadata": {
        "id": "spQ-E4BK536_"
      }
    },
    {
      "cell_type": "code",
      "source": [
        "# Fungsi Built-in\n",
        "# Fungsi print() adalah contoh fungsi built-in untuk mencetak output\n",
        "print(\"Ini adalah contoh fungsi built-in\")\n",
        "\n",
        "# Fungsi len() adalah contoh fungsi built-in untuk menghitung panjang suatu objek\n",
        "kata = \"Pemrograman\"\n",
        "panjang_kata = len(kata)\n",
        "print(f\"Panjang kata '{kata}' adalah: {panjang_kata}\")\n",
        "\n",
        "# Fungsi max() adalah contoh fungsi built-in untuk mencari nilai maksimum dari sebuah daftar\n",
        "angka = [10, 5, 30, 40, 25]\n",
        "nilai_max = max(angka)\n",
        "print(f\"Nilai maksimum dalam daftar {angka} adalah: {nilai_max}\")\n",
        "\n",
        "# Fungsi User-Defined\n",
        "# Fungsi dengan satu parameter (Menerima satu nilai input)\n",
        "def cetak_kuadrat(angka):\n",
        "    # Menghitung kuadrat dari angka yang diterima sebagai parameter\n",
        "    print(f\"Kuadrat dari {angka} adalah: {angka ** 2}\")\n",
        "\n",
        "# Fungsi dengan beberapa parameter (Menerima lebih dari satu nilai input)\n",
        "def hitung_luas_persegi_panjang(panjang, lebar):\n",
        "    # Menghitung luas persegi panjang\n",
        "    return panjang * lebar\n",
        "\n",
        "# Fungsi dengan beberapa tipe parameter (Menerima berbagai jenis data)\n",
        "def info_mahasiswa(nama, umur, ipk):\n",
        "    # Mencetak informasi mahasiswa\n",
        "    print(f\"Nama: {nama}, Umur: {umur}, IPK: {ipk}\")\n",
        "\n",
        "# Fungsi tanpa return value (Non-return value)\n",
        "def sapa_pengguna(nama):\n",
        "    # Fungsi ini hanya mencetak sapaan tanpa mengembalikan nilai\n",
        "    print(f\"Halo, {nama}! Selamat datang di dunia Python.\")\n",
        "\n",
        "# Fungsi dengan return value\n",
        "def hitung_keliling_persegi(sisi):\n",
        "    # Mengembalikan keliling persegi\n",
        "    return 4 * sisi\n",
        "\n",
        "# Pemanggilan fungsi dengan satu parameter\n",
        "cetak_kuadrat(5)\n",
        "\n",
        "# Pemanggilan fungsi dengan beberapa parameter\n",
        "luas = hitung_luas_persegi_panjang(10, 5)\n",
        "print(f\"Luas persegi panjang: {luas}\")\n",
        "\n",
        "# Pemanggilan fungsi dengan beberapa tipe parameter\n",
        "info_mahasiswa(\"Budi\", 22, 3.8)\n",
        "\n",
        "# Pemanggilan fungsi tanpa return value\n",
        "sapa_pengguna(\"Andi\")\n",
        "\n",
        "# Pemanggilan fungsi dengan return value\n",
        "keliling = hitung_keliling_persegi(5)\n",
        "print(f\"Keliling persegi dengan sisi 5 adalah: {keliling}\")"
      ],
      "metadata": {
        "colab": {
          "base_uri": "https://localhost:8080/"
        },
        "id": "dZZnNQU9564N",
        "outputId": "6042155c-19a7-4e9b-a5b2-dff47413f134"
      },
      "execution_count": null,
      "outputs": [
        {
          "output_type": "stream",
          "name": "stdout",
          "text": [
            "Ini adalah contoh fungsi built-in\n",
            "Panjang kata 'Pemrograman' adalah: 11\n",
            "Nilai maksimum dalam daftar [10, 5, 30, 40, 25] adalah: 40\n",
            "Kuadrat dari 5 adalah: 25\n",
            "Luas persegi panjang: 50\n",
            "Nama: Budi, Umur: 22, IPK: 3.8\n",
            "Halo, Andi! Selamat datang di dunia Python.\n",
            "Keliling persegi dengan sisi 5 adalah: 20\n"
          ]
        }
      ]
    },
    {
      "cell_type": "markdown",
      "source": [
        "## Praktikum 2"
      ],
      "metadata": {
        "id": "VjMYRXAbCgjM"
      }
    },
    {
      "cell_type": "code",
      "source": [
        "# File utama main.py yang mengimport modul geometri.py\n",
        "\n",
        "# Mengimport modul geometri\n",
        "import geometri\n",
        "\n",
        "def main():\n",
        "    # Menggunakan fungsi dari modul geometri\n",
        "    luas_persegi = geometri.hitung_luas_persegi(5)\n",
        "    print(f\"Luas persegi dengan sisi 5 adalah: {luas_persegi}\")\n",
        "\n",
        "    luas_persegi_panjang = geometri.hitung_luas_persegi_panjang(10, 5)\n",
        "    print(f\"Luas persegi panjang dengan panjang 10 dan lebar 5 adalah: {luas_persegi_panjang}\")\n",
        "\n",
        "    luas_lingkaran = geometri.hitung_luas_lingkaran(7)\n",
        "    print(f\"Luas lingkaran dengan jari-jari 7 adalah: {luas_lingkaran}\")\n",
        "\n",
        "if __name__ == \"__main__\":\n",
        "    main()"
      ],
      "metadata": {
        "id": "hECTqGYCClU9"
      },
      "execution_count": null,
      "outputs": []
    },
    {
      "cell_type": "markdown",
      "source": [
        "## Praktikum 3"
      ],
      "metadata": {
        "id": "1Uoj_AVbFDR6"
      }
    },
    {
      "cell_type": "code",
      "source": [
        "# Kelas Buku untuk merepresentasikan buku di perpustakaan\n",
        "class Buku:\n",
        "    def __init__(self, judul, pengarang, tahun_terbit):\n",
        "        self.judul = judul\n",
        "        self.pengarang = pengarang\n",
        "        self.tahun_terbit = tahun_terbit\n",
        "        self.status = \"Tersedia\"  # Status buku, default adalah Tersedia\n",
        "\n",
        "    def tampilkan_info(self):\n",
        "        print(f\"Judul: {self.judul}\")\n",
        "        print(f\"Pengarang: {self.pengarang}\")\n",
        "        print(f\"Tahun Terbit: {self.tahun_terbit}\")\n",
        "        print(f\"Status: {self.status}\")\n",
        "\n",
        "    def pinjam(self):\n",
        "        if self.status == \"Tersedia\":\n",
        "            self.status = \"Dipinjam\"\n",
        "            print(f\"Buku '{self.judul}' telah dipinjam.\")\n",
        "        else:\n",
        "            print(f\"Buku '{self.judul}' sedang dipinjam.\")\n",
        "\n",
        "    def kembalikan(self):\n",
        "        if self.status == \"Dipinjam\":\n",
        "            self.status = \"Tersedia\"\n",
        "            print(f\"Buku '{self.judul}' telah dikembalikan.\")\n",
        "        else:\n",
        "            print(f\"Buku '{self.judul}' tidak sedang dipinjam.\")\n",
        "\n",
        "# Membuat objek dari kelas Buku\n",
        "buku1 = Buku(\"Pemrograman Python\", \"John Doe\", 2021)\n",
        "buku2 = Buku(\"Data Science untuk Pemula\", \"Jane Smith\", 2020)\n",
        "\n",
        "# Menggunakan metode objek Buku\n",
        "buku1.tampilkan_info()\n",
        "buku2.pinjam()\n",
        "\n",
        "# Mengubah status buku dan menampilkan informasi\n",
        "buku2.kembalikan()\n",
        "buku1.pinjam()\n",
        "buku1.tampilkan_info()\n",
        "\n",
        "# Kelas Mahasiswa untuk merepresentasikan Mahasiswa dalam kelas\n",
        "\n",
        "# Definisi kelas\n",
        "class Mahasiswa:\n",
        "    # Konstruktor (__init__) untuk menginisialisasi atribut objek\n",
        "    def __init__(self, nama, nim, umur):\n",
        "        self.nama = nama  # Atribut objek nama\n",
        "        self.nim = nim    # Atribut objek nim\n",
        "        self.umur = umur  # Atribut objek umur\n",
        "\n",
        "    # Metode untuk menampilkan informasi mahasiswa\n",
        "    def tampilkan_info(self):\n",
        "        print(f\"Nama: {self.nama}\")\n",
        "        print(f\"NIM: {self.nim}\")\n",
        "        print(f\"Umur: {self.umur} tahun\")\n",
        "\n",
        "    # Metode untuk merubah umur mahasiswa\n",
        "    def ubah_umur(self, umur_baru):\n",
        "        self.umur = umur_baru\n",
        "\n",
        "# Membuat objek (instance) dari kelas Mahasiswa\n",
        "mahasiswa1 = Mahasiswa(\"Andi\", \"12345\", 20)\n",
        "mahasiswa2 = Mahasiswa(\"Budi\", \"67890\", 22)\n",
        "\n",
        "# Menggunakan metode dari kelas Mahasiswa\n",
        "mahasiswa1.tampilkan_info()\n",
        "print()  # Baris kosong\n",
        "mahasiswa2.tampilkan_info()\n",
        "\n",
        "# Mengubah umur mahasiswa1 menggunakan metode ubah_umur\n",
        "mahasiswa1.ubah_umur(21)\n",
        "\n",
        "# Menampilkan info mahasiswa setelah umur diubah\n",
        "print(\"\\nSetelah mengubah umur mahasiswa1:\")\n",
        "mahasiswa1.tampilkan_info()"
      ],
      "metadata": {
        "colab": {
          "base_uri": "https://localhost:8080/"
        },
        "id": "_O4q_874FIy3",
        "outputId": "52fac131-cc7f-4df5-ebb8-96c2e697528c"
      },
      "execution_count": null,
      "outputs": [
        {
          "output_type": "stream",
          "name": "stdout",
          "text": [
            "Judul: Pemrograman Python\n",
            "Pengarang: John Doe\n",
            "Tahun Terbit: 2021\n",
            "Status: Tersedia\n",
            "Buku 'Data Science untuk Pemula' telah dipinjam.\n",
            "Buku 'Data Science untuk Pemula' telah dikembalikan.\n",
            "Buku 'Pemrograman Python' telah dipinjam.\n",
            "Judul: Pemrograman Python\n",
            "Pengarang: John Doe\n",
            "Tahun Terbit: 2021\n",
            "Status: Dipinjam\n",
            "Nama: Andi\n",
            "NIM: 12345\n",
            "Umur: 20 tahun\n",
            "\n",
            "Nama: Budi\n",
            "NIM: 67890\n",
            "Umur: 22 tahun\n",
            "\n",
            "Setelah mengubah umur mahasiswa1:\n",
            "Nama: Andi\n",
            "NIM: 12345\n",
            "Umur: 21 tahun\n"
          ]
        }
      ]
    },
    {
      "cell_type": "markdown",
      "source": [
        "# Tugas Program"
      ],
      "metadata": {
        "id": "dIFMgCOCIyKT"
      }
    },
    {
      "cell_type": "markdown",
      "source": [
        "## Penjualan HP"
      ],
      "metadata": {
        "id": "jk61eBGTI3MK"
      }
    },
    {
      "cell_type": "code",
      "source": [
        "# File utama main.py\n",
        "import hp\n",
        "\n",
        "def main():\n",
        "    # Membuat daftar HP yang tersedia\n",
        "    hp1 = hp.HP(\"Apple\", \"iPhone 12\", 7000000, 10)\n",
        "    hp2 = hp.HP(\"Samsung\", \"Galaxy S22\", 11000000, 8)\n",
        "    hp3 = hp.HP(\"Xiaomi\", \"Redmi Note 11\", 3000000, 15)\n",
        "\n",
        "    daftar_hp = [hp1, hp2, hp3]\n",
        "\n",
        "    print(\"=== Daftar HP yang Tersedia ===\")\n",
        "    for idx, h in enumerate(daftar_hp):\n",
        "        print(f\"{idx + 1}. {h.tampilkan_info()}\")\n",
        "\n",
        "    pilihan = int(input(\"Pilih HP yang ingin dibeli (1/2/3): \")) - 1\n",
        "    jumlah = int(input(\"Masukkan jumlah unit yang ingin dibeli: \"))\n",
        "\n",
        "    if 0 <= pilihan < len(daftar_hp):\n",
        "        print(daftar_hp[pilihan].beli(jumlah))\n",
        "    else:\n",
        "        print(\"Pilihan tidak valid.\")\n",
        "\n",
        "if __name__ == \"__main__\":\n",
        "    main()\n"
      ],
      "metadata": {
        "colab": {
          "base_uri": "https://localhost:8080/"
        },
        "id": "sRe6r_SDI6GH",
        "outputId": "4f66a770-44d5-484a-d83a-88e4b543d4c7"
      },
      "execution_count": 3,
      "outputs": [
        {
          "output_type": "stream",
          "name": "stdout",
          "text": [
            "=== Daftar HP yang Tersedia ===\n",
            "1. Apple iPhone 12 - Rp7000000 (10 stok)\n",
            "2. Samsung Galaxy S22 - Rp11000000 (8 stok)\n",
            "3. Xiaomi Redmi Note 11 - Rp3000000 (15 stok)\n",
            "Pilih HP yang ingin dibeli (1/2/3): 2\n",
            "Masukkan jumlah unit yang ingin dibeli: 7\n",
            "77000000\n"
          ]
        }
      ]
    }
  ]
}