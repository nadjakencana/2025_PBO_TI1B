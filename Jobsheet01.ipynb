{
  "nbformat": 4,
  "nbformat_minor": 0,
  "metadata": {
    "colab": {
      "provenance": [],
      "toc_visible": true,
      "authorship_tag": "ABX9TyNiGrsKjsO/gQjEgeVy4NxQ",
      "include_colab_link": true
    },
    "kernelspec": {
      "name": "python3",
      "display_name": "Python 3"
    },
    "language_info": {
      "name": "python"
    }
  },
  "cells": [
    {
      "cell_type": "markdown",
      "metadata": {
        "id": "view-in-github",
        "colab_type": "text"
      },
      "source": [
        "<a href=\"https://colab.research.google.com/github/nadjakencana/2025_PBO_TI1B/blob/main/Jobsheet01.ipynb\" target=\"_parent\"><img src=\"https://colab.research.google.com/assets/colab-badge.svg\" alt=\"Open In Colab\"/></a>"
      ]
    },
    {
      "cell_type": "code",
      "execution_count": 8,
      "metadata": {
        "id": "uhOOMle9mRKz"
      },
      "outputs": [],
      "source": []
    },
    {
      "cell_type": "markdown",
      "source": [
        "# Praktikum 1\n"
      ],
      "metadata": {
        "id": "CkQRs4UUprcs"
      }
    },
    {
      "cell_type": "code",
      "source": [
        "print(\"hai\")"
      ],
      "metadata": {
        "colab": {
          "base_uri": "https://localhost:8080/"
        },
        "id": "O78ecYnFqRs3",
        "outputId": "e3452dd0-1c9a-445c-a583-b9bcd315f9c6"
      },
      "execution_count": 10,
      "outputs": [
        {
          "output_type": "stream",
          "name": "stdout",
          "text": [
            "hai\n"
          ]
        }
      ]
    },
    {
      "cell_type": "markdown",
      "source": [
        "# Jobsheet 01: Dasar Pemograman Bahasa Python"
      ],
      "metadata": {
        "id": "WWSqh08Ip-eH"
      }
    },
    {
      "cell_type": "code",
      "source": [],
      "metadata": {
        "id": "8HWb_WZcqpBk"
      },
      "execution_count": null,
      "outputs": []
    },
    {
      "cell_type": "code",
      "source": [
        "angka_int = 10\n",
        "print(angka_int)"
      ],
      "metadata": {
        "colab": {
          "base_uri": "https://localhost:8080/"
        },
        "id": "iUkmfH_gqVvJ",
        "outputId": "d38239bb-f7f4-44fa-a1af-e3945d06e4b8"
      },
      "execution_count": 9,
      "outputs": [
        {
          "output_type": "stream",
          "name": "stdout",
          "text": [
            "10\n"
          ]
        }
      ]
    },
    {
      "cell_type": "code",
      "source": [],
      "metadata": {
        "id": "-HFVnhmBqrBY"
      },
      "execution_count": null,
      "outputs": []
    },
    {
      "cell_type": "code",
      "source": [],
      "metadata": {
        "id": "F9UdozEkqq9_"
      },
      "execution_count": null,
      "outputs": []
    }
  ]
}